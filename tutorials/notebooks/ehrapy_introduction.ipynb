{
 "cells": [
  {
   "cell_type": "markdown",
   "id": "fd0136b6-54c9-496b-a1e3-d8f4509a8f28",
   "metadata": {},
   "source": [
    "# ehrapy introduction"
   ]
  },
  {
   "cell_type": "markdown",
   "id": "e6b8d85e-d22e-4833-a5fc-642b6f4a146c",
   "metadata": {},
   "source": [
    "Welcome to ehrapy! \n",
    "ehrapy is a framework to allow for the exploratory end-to-end analysis of complex EHR datasets inspired by the single-cell world.\n",
    "Hereby, data points are not necessarily treated as complete patients, but as patient visits representing snapshots of the underlying system.\n",
    "The goal of any exploratory analysis not necessarily to predict or classify a specific state, but to understand the fundamental "
   ]
  },
  {
   "cell_type": "markdown",
   "id": "4a134a56-3ced-4474-bc5f-838558976c97",
   "metadata": {},
   "source": [
    "What is ehrapy\n",
    "\n",
    "framework to do all kinds of things\n",
    "exploratory analysis\n",
    "patient visit/snapshot view and not necessarily focussing on single patients\n",
    "understanding the underlying system"
   ]
  },
  {
   "cell_type": "code",
   "execution_count": null,
   "id": "8286ad8c-1b72-4265-a7ff-f40929a88559",
   "metadata": {},
   "outputs": [],
   "source": [
    "What ehrapy is not"
   ]
  },
  {
   "cell_type": "code",
   "execution_count": null,
   "id": "f5e43315-ce45-4ca6-a41b-9c8af1942d6c",
   "metadata": {},
   "outputs": [],
   "source": [
    "Fundamental principles like datastructures"
   ]
  },
  {
   "cell_type": "code",
   "execution_count": null,
   "id": "8f62efdf-687f-4ae1-ab77-a1df1f4ba8f9",
   "metadata": {},
   "outputs": [],
   "source": [
    "AnnData introduction"
   ]
  },
  {
   "cell_type": "code",
   "execution_count": null,
   "id": "7403e713-27d1-4908-8514-6205cc95a404",
   "metadata": {},
   "outputs": [],
   "source": [
    "Scanpy introduction"
   ]
  },
  {
   "cell_type": "code",
   "execution_count": null,
   "id": "333fb413-67e2-4d5e-8ee6-6751a5c051f5",
   "metadata": {},
   "outputs": [],
   "source": [
    "a figure explaining the workflow from QC to normalization to visualization to clustering etc"
   ]
  },
  {
   "cell_type": "code",
   "execution_count": null,
   "id": "4d8c1292-26e7-40c4-94cf-f22384d71daa",
   "metadata": {},
   "outputs": [],
   "source": []
  },
  {
   "cell_type": "code",
   "execution_count": null,
   "id": "dac12c62-5734-417a-9d5e-3714805c830d",
   "metadata": {},
   "outputs": [],
   "source": []
  },
  {
   "cell_type": "code",
   "execution_count": null,
   "id": "dfcef02c-b9bb-49b4-97b5-2079ff8375af",
   "metadata": {},
   "outputs": [],
   "source": []
  },
  {
   "cell_type": "code",
   "execution_count": null,
   "id": "c73fd247-b6c7-4c88-bfc2-d7300dcbecf2",
   "metadata": {},
   "outputs": [],
   "source": []
  },
  {
   "cell_type": "code",
   "execution_count": null,
   "id": "691ed1f2-66b4-4f88-9bb8-d9d6f147b185",
   "metadata": {},
   "outputs": [],
   "source": []
  },
  {
   "cell_type": "code",
   "execution_count": null,
   "id": "40286b24-ce82-4d47-89d6-42433a504301",
   "metadata": {},
   "outputs": [],
   "source": []
  },
  {
   "cell_type": "code",
   "execution_count": null,
   "id": "7d3c60cb-8936-4802-8338-28f0acfeca90",
   "metadata": {},
   "outputs": [],
   "source": []
  },
  {
   "cell_type": "code",
   "execution_count": null,
   "id": "2d55851b-6b6a-4b69-8da3-67e2928031d1",
   "metadata": {},
   "outputs": [],
   "source": []
  },
  {
   "cell_type": "code",
   "execution_count": null,
   "id": "fd641f0b-2178-4b36-b797-a8708c7d66b9",
   "metadata": {},
   "outputs": [],
   "source": []
  }
 ],
 "metadata": {
  "kernelspec": {
   "display_name": "Python 3 (ipykernel)",
   "language": "python",
   "name": "python3"
  },
  "language_info": {
   "codemirror_mode": {
    "name": "ipython",
    "version": 3
   },
   "file_extension": ".py",
   "mimetype": "text/x-python",
   "name": "python",
   "nbconvert_exporter": "python",
   "pygments_lexer": "ipython3",
   "version": "3.8.12"
  }
 },
 "nbformat": 4,
 "nbformat_minor": 5
}
