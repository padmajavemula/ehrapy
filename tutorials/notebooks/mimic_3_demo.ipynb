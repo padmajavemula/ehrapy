{
 "cells": [
  {
   "cell_type": "code",
   "execution_count": 1,
   "id": "6cfd5fb8-7c32-4dba-b050-4be1c5bb5e38",
   "metadata": {},
   "outputs": [
    {
     "data": {
      "text/html": [
       "<pre style=\"white-space:pre;overflow-x:auto;line-height:normal;font-family:Menlo,'DejaVu Sans Mono',consolas,'Courier New',monospace\"><span style=\"color: #800000; text-decoration-color: #800000; font-weight: bold\">Unable to contact PyPI to check for the latest ehrapy version. Do you have an internet </span>\n",
       "<span style=\"color: #800000; text-decoration-color: #800000; font-weight: bold\">connection?</span>\n",
       "</pre>\n"
      ],
      "text/plain": [
       "\u001b[1;31mUnable to contact PyPI to check for the latest ehrapy version. Do you have an internet \u001b[0m\n",
       "\u001b[1;31mconnection?\u001b[0m\n"
      ]
     },
     "metadata": {},
     "output_type": "display_data"
    },
    {
     "name": "stderr",
     "output_type": "stream",
     "text": [
      "/home/zeth/miniconda3/envs/ehrapy/lib/python3.8/site-packages/medcat/cat.py:16: TqdmExperimentalWarning: Using `tqdm.autonotebook.tqdm` in notebook mode. Use `tqdm.tqdm` instead to force console mode (e.g. in jupyter console)\n",
      "  from tqdm.autonotebook import tqdm\n"
     ]
    }
   ],
   "source": [
    "import ehrapy as ep"
   ]
  },
  {
   "cell_type": "code",
   "execution_count": 2,
   "id": "55c7bc26-727a-4905-b607-fc3541555e09",
   "metadata": {},
   "outputs": [
    {
     "name": "stderr",
     "output_type": "stream",
     "text": [
      "/home/zeth/PycharmProjects/ehrapy/ehrapy/api/io/_read.py:262: DtypeWarning: Columns (17,20,21) have mixed types.Specify dtype option on import or set low_memory=False.\n",
      "  adata, single_adata_obs_only = read_csv(file, delimiter, index_col, col_obs_only, cache=cache)\n",
      "/home/zeth/PycharmProjects/ehrapy/ehrapy/api/io/_read.py:262: DtypeWarning: Columns (8,10,13,14) have mixed types.Specify dtype option on import or set low_memory=False.\n",
      "  adata, single_adata_obs_only = read_csv(file, delimiter, index_col, col_obs_only, cache=cache)\n"
     ]
    }
   ],
   "source": [
    "adatas = ep.dt.mimic_3_demo(encoded=False, mudata=False)"
   ]
  },
  {
   "cell_type": "code",
   "execution_count": 3,
   "id": "cbbd7855-51ca-4771-9dd0-26483868bdd0",
   "metadata": {},
   "outputs": [
    {
     "data": {
      "text/plain": [
       "{'DRGCODES': AnnData object with n_obs × n_vars = 297 × 8\n",
       "     uns: 'numerical_columns', 'non_numerical_columns'\n",
       "     layers: 'original',\n",
       " 'CAREGIVERS': AnnData object with n_obs × n_vars = 7567 × 4\n",
       "     uns: 'numerical_columns', 'non_numerical_columns'\n",
       "     layers: 'original',\n",
       " 'INPUTEVENTS_CV': AnnData object with n_obs × n_vars = 34799 × 20\n",
       "     obs: 'charttime', 'storetime'\n",
       "     uns: 'numerical_columns', 'non_numerical_columns'\n",
       "     layers: 'original',\n",
       " 'D_ICD_PROCEDURES': AnnData object with n_obs × n_vars = 3882 × 4\n",
       "     uns: 'numerical_columns', 'non_numerical_columns'\n",
       "     layers: 'original',\n",
       " 'CALLOUT': AnnData object with n_obs × n_vars = 77 × 18\n",
       "     obs: 'createtime', 'updatetime', 'acknowledgetime', 'outcometime', 'firstreservationtime', 'currentreservationtime'\n",
       "     uns: 'numerical_columns', 'non_numerical_columns'\n",
       "     layers: 'original',\n",
       " 'LABEVENTS': AnnData object with n_obs × n_vars = 76074 × 8\n",
       "     obs: 'charttime'\n",
       "     uns: 'numerical_columns', 'non_numerical_columns'\n",
       "     layers: 'original',\n",
       " 'PRESCRIPTIONS': AnnData object with n_obs × n_vars = 10398 × 17\n",
       "     obs: 'startdate', 'enddate'\n",
       "     uns: 'numerical_columns', 'non_numerical_columns'\n",
       "     layers: 'original',\n",
       " 'DATETIMEEVENTS': AnnData object with n_obs × n_vars = 15551 × 11\n",
       "     obs: 'charttime', 'storetime', 'value'\n",
       "     uns: 'numerical_columns', 'non_numerical_columns'\n",
       "     layers: 'original',\n",
       " 'INPUTEVENTS_MV': AnnData object with n_obs × n_vars = 13224 × 27\n",
       "     obs: 'starttime', 'endtime', 'storetime', 'comments_date'\n",
       "     uns: 'numerical_columns', 'non_numerical_columns'\n",
       "     layers: 'original',\n",
       " 'CPTEVENTS': AnnData object with n_obs × n_vars = 1579 × 11\n",
       "     obs: 'chartdate'\n",
       "     uns: 'numerical_columns', 'non_numerical_columns'\n",
       "     layers: 'original',\n",
       " 'D_LABITEMS': AnnData object with n_obs × n_vars = 753 × 6\n",
       "     uns: 'numerical_columns', 'non_numerical_columns'\n",
       "     layers: 'original',\n",
       " 'DIAGNOSES_ICD': AnnData object with n_obs × n_vars = 1761 × 5\n",
       "     uns: 'numerical_columns', 'non_numerical_columns'\n",
       "     layers: 'original',\n",
       " 'D_ITEMS': AnnData object with n_obs × n_vars = 12487 × 10\n",
       "     uns: 'numerical_columns', 'non_numerical_columns'\n",
       "     layers: 'original',\n",
       " 'D_CPT': AnnData object with n_obs × n_vars = 134 × 9\n",
       "     uns: 'numerical_columns', 'non_numerical_columns'\n",
       "     layers: 'original',\n",
       " 'PROCEDURES_ICD': AnnData object with n_obs × n_vars = 506 × 5\n",
       "     uns: 'numerical_columns', 'non_numerical_columns'\n",
       "     layers: 'original',\n",
       " 'OUTPUTEVENTS': AnnData object with n_obs × n_vars = 11320 × 11\n",
       "     obs: 'charttime', 'storetime'\n",
       "     uns: 'numerical_columns', 'non_numerical_columns'\n",
       "     layers: 'original',\n",
       " 'CHARTEVENTS': AnnData object with n_obs × n_vars = 758355 × 13\n",
       "     obs: 'charttime', 'storetime'\n",
       "     uns: 'numerical_columns', 'non_numerical_columns'\n",
       "     layers: 'original',\n",
       " 'NOTEEVENTS': AnnData object with n_obs × n_vars = 0 × 0\n",
       "     obs: 'row_id', 'subject_id', 'hadm_id', 'chartdate', 'charttime', 'storetime', 'category', 'description', 'cgid', 'iserror', 'text'\n",
       "     uns: 'numerical_columns', 'non_numerical_columns'\n",
       "     layers: 'original',\n",
       " 'ICUSTAYS': AnnData object with n_obs × n_vars = 136 × 10\n",
       "     obs: 'intime', 'outtime'\n",
       "     uns: 'numerical_columns', 'non_numerical_columns'\n",
       "     layers: 'original',\n",
       " 'MICROBIOLOGYEVENTS': AnnData object with n_obs × n_vars = 2003 × 14\n",
       "     obs: 'chartdate', 'charttime'\n",
       "     uns: 'numerical_columns', 'non_numerical_columns'\n",
       "     layers: 'original',\n",
       " 'D_ICD_DIAGNOSES': AnnData object with n_obs × n_vars = 14567 × 4\n",
       "     uns: 'numerical_columns', 'non_numerical_columns'\n",
       "     layers: 'original',\n",
       " 'ADMISSIONS': AnnData object with n_obs × n_vars = 129 × 14\n",
       "     obs: 'admittime', 'dischtime', 'deathtime', 'edregtime', 'edouttime'\n",
       "     uns: 'numerical_columns', 'non_numerical_columns'\n",
       "     layers: 'original',\n",
       " 'PROCEDUREEVENTS_MV': AnnData object with n_obs × n_vars = 753 × 21\n",
       "     obs: 'starttime', 'endtime', 'storetime', 'comments_date'\n",
       "     uns: 'numerical_columns', 'non_numerical_columns'\n",
       "     layers: 'original',\n",
       " 'PATIENTS': AnnData object with n_obs × n_vars = 100 × 4\n",
       "     obs: 'dob', 'dod', 'dod_hosp', 'dod_ssn'\n",
       "     uns: 'numerical_columns', 'non_numerical_columns'\n",
       "     layers: 'original',\n",
       " 'TRANSFERS': AnnData object with n_obs × n_vars = 524 × 11\n",
       "     obs: 'intime', 'outtime'\n",
       "     uns: 'numerical_columns', 'non_numerical_columns'\n",
       "     layers: 'original',\n",
       " 'SERVICES': AnnData object with n_obs × n_vars = 163 × 5\n",
       "     obs: 'transfertime'\n",
       "     uns: 'numerical_columns', 'non_numerical_columns'\n",
       "     layers: 'original'}"
      ]
     },
     "execution_count": 3,
     "metadata": {},
     "output_type": "execute_result"
    }
   ],
   "source": [
    "adatas"
   ]
  },
  {
   "cell_type": "code",
   "execution_count": 4,
   "id": "7a9ac19b-ff78-4bba-b17e-c1b56d041880",
   "metadata": {},
   "outputs": [
    {
     "data": {
      "text/html": [
       "<div>\n",
       "<style scoped>\n",
       "    .dataframe tbody tr th:only-of-type {\n",
       "        vertical-align: middle;\n",
       "    }\n",
       "\n",
       "    .dataframe tbody tr th {\n",
       "        vertical-align: top;\n",
       "    }\n",
       "\n",
       "    .dataframe thead th {\n",
       "        text-align: right;\n",
       "    }\n",
       "</style>\n",
       "<table border=\"1\" class=\"dataframe\">\n",
       "  <thead>\n",
       "    <tr style=\"text-align: right;\">\n",
       "      <th></th>\n",
       "      <th>charttime</th>\n",
       "      <th>storetime</th>\n",
       "    </tr>\n",
       "  </thead>\n",
       "  <tbody>\n",
       "    <tr>\n",
       "      <th>0</th>\n",
       "      <td>2171-11-03 15:00:00</td>\n",
       "      <td>2171-11-03 16:27:00</td>\n",
       "    </tr>\n",
       "    <tr>\n",
       "      <th>1</th>\n",
       "      <td>2171-11-03 20:00:00</td>\n",
       "      <td>2171-11-03 20:52:00</td>\n",
       "    </tr>\n",
       "    <tr>\n",
       "      <th>2</th>\n",
       "      <td>2171-11-03 23:00:00</td>\n",
       "      <td>2171-11-03 23:25:00</td>\n",
       "    </tr>\n",
       "    <tr>\n",
       "      <th>3</th>\n",
       "      <td>2171-11-04 02:00:00</td>\n",
       "      <td>2171-11-04 02:08:00</td>\n",
       "    </tr>\n",
       "    <tr>\n",
       "      <th>4</th>\n",
       "      <td>2171-11-04 05:00:00</td>\n",
       "      <td>2171-11-04 06:26:00</td>\n",
       "    </tr>\n",
       "    <tr>\n",
       "      <th>...</th>\n",
       "      <td>...</td>\n",
       "      <td>...</td>\n",
       "    </tr>\n",
       "    <tr>\n",
       "      <th>34794</th>\n",
       "      <td>2148-01-16 10:00:00</td>\n",
       "      <td>2148-01-16 10:58:00</td>\n",
       "    </tr>\n",
       "    <tr>\n",
       "      <th>34795</th>\n",
       "      <td>2148-01-16 11:00:00</td>\n",
       "      <td>2148-01-16 10:58:00</td>\n",
       "    </tr>\n",
       "    <tr>\n",
       "      <th>34796</th>\n",
       "      <td>2148-01-16 12:00:00</td>\n",
       "      <td>2148-01-16 12:18:00</td>\n",
       "    </tr>\n",
       "    <tr>\n",
       "      <th>34797</th>\n",
       "      <td>2148-01-16 13:00:00</td>\n",
       "      <td>2148-01-16 13:07:00</td>\n",
       "    </tr>\n",
       "    <tr>\n",
       "      <th>34798</th>\n",
       "      <td>2148-01-16 14:00:00</td>\n",
       "      <td>2148-01-16 14:16:00</td>\n",
       "    </tr>\n",
       "  </tbody>\n",
       "</table>\n",
       "<p>34799 rows × 2 columns</p>\n",
       "</div>"
      ],
      "text/plain": [
       "                 charttime            storetime\n",
       "0      2171-11-03 15:00:00  2171-11-03 16:27:00\n",
       "1      2171-11-03 20:00:00  2171-11-03 20:52:00\n",
       "2      2171-11-03 23:00:00  2171-11-03 23:25:00\n",
       "3      2171-11-04 02:00:00  2171-11-04 02:08:00\n",
       "4      2171-11-04 05:00:00  2171-11-04 06:26:00\n",
       "...                    ...                  ...\n",
       "34794  2148-01-16 10:00:00  2148-01-16 10:58:00\n",
       "34795  2148-01-16 11:00:00  2148-01-16 10:58:00\n",
       "34796  2148-01-16 12:00:00  2148-01-16 12:18:00\n",
       "34797  2148-01-16 13:00:00  2148-01-16 13:07:00\n",
       "34798  2148-01-16 14:00:00  2148-01-16 14:16:00\n",
       "\n",
       "[34799 rows x 2 columns]"
      ]
     },
     "execution_count": 4,
     "metadata": {},
     "output_type": "execute_result"
    }
   ],
   "source": [
    "adatas[\"INPUTEVENTS_CV\"].obs"
   ]
  },
  {
   "cell_type": "code",
   "execution_count": 5,
   "id": "e4590aa9-b3e6-43f6-92d4-5d387847a5d3",
   "metadata": {},
   "outputs": [],
   "source": [
    "adata = adatas[\"INPUTEVENTS_CV\"]"
   ]
  },
  {
   "cell_type": "code",
   "execution_count": 7,
   "id": "3b4baa58-95bc-4d4b-a72a-f953c0b5fc5c",
   "metadata": {},
   "outputs": [
    {
     "data": {
      "text/plain": [
       "AnnData object with n_obs × n_vars = 34799 × 20\n",
       "    obs: 'charttime', 'storetime'\n",
       "    uns: 'numerical_columns', 'non_numerical_columns'\n",
       "    layers: 'original'"
      ]
     },
     "execution_count": 7,
     "metadata": {},
     "output_type": "execute_result"
    }
   ],
   "source": [
    "ep.pp.knn_impute(adata)"
   ]
  },
  {
   "cell_type": "code",
   "execution_count": null,
   "id": "dab33744-7e39-44a8-89bd-300e8d095ddc",
   "metadata": {},
   "outputs": [],
   "source": [
    "adata"
   ]
  },
  {
   "cell_type": "code",
   "execution_count": 7,
   "id": "35c5bfea-d81d-44b2-9b16-66198390aa1d",
   "metadata": {},
   "outputs": [],
   "source": [
    "adata_encoded = ep.pp.encode(adata, autodetect=True)"
   ]
  },
  {
   "cell_type": "code",
   "execution_count": 8,
   "id": "b08d9a93-9fff-4d9d-98c4-213afa96a42f",
   "metadata": {},
   "outputs": [
    {
     "data": {
      "text/plain": [
       "AnnData object with n_obs × n_vars = 34799 × 20\n",
       "    obs: 'charttime', 'storetime', 'amountuom', 'rateuom', 'stopped', 'originalamountuom', 'originalroute', 'originalrateuom', 'originalsite'\n",
       "    uns: 'categoricals', 'original_values_categoricals', 'var_to_encoding'\n",
       "    layers: 'original'"
      ]
     },
     "execution_count": 8,
     "metadata": {},
     "output_type": "execute_result"
    }
   ],
   "source": [
    "adata_encoded"
   ]
  },
  {
   "cell_type": "code",
   "execution_count": 9,
   "id": "9b20938f-08e6-48f7-b839-cdfb9ec95012",
   "metadata": {},
   "outputs": [],
   "source": [
    "# ep.io.write(\"test.h5ad\", adata)"
   ]
  },
  {
   "cell_type": "code",
   "execution_count": null,
   "id": "1c06703c-7896-4385-ad06-9892df113bae",
   "metadata": {},
   "outputs": [],
   "source": []
  }
 ],
 "metadata": {
  "kernelspec": {
   "display_name": "Python 3",
   "language": "python",
   "name": "python3"
  },
  "language_info": {
   "codemirror_mode": {
    "name": "ipython",
    "version": 3
   },
   "file_extension": ".py",
   "mimetype": "text/x-python",
   "name": "python",
   "nbconvert_exporter": "python",
   "pygments_lexer": "ipython3",
   "version": "3.8.12"
  }
 },
 "nbformat": 4,
 "nbformat_minor": 5
}
